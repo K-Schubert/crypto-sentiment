{
 "cells": [
  {
   "cell_type": "markdown",
   "id": "9668420c",
   "metadata": {},
   "source": [
    "- get news for each stock\n",
    "    - scrap links\n",
    "- get video links associated to article\n",
    "    - use whisper to get text"
   ]
  },
  {
   "cell_type": "markdown",
   "id": "9a563758",
   "metadata": {},
   "source": [
    "# Messari news"
   ]
  },
  {
   "cell_type": "code",
   "execution_count": 1,
   "id": "ddaa1d28",
   "metadata": {},
   "outputs": [],
   "source": [
    "from selenium import webdriver\n",
    "from bs4 import BeautifulSoup\n",
    "import pandas as pd\n",
    "import time\n",
    "from collections import defaultdict\n",
    "import datetime\n",
    "import tqdm\n",
    "import re"
   ]
  },
  {
   "cell_type": "code",
   "execution_count": 2,
   "id": "9cdc26d6",
   "metadata": {},
   "outputs": [],
   "source": [
    "\"\"\"def format_news_articles_date(date, scrap_time_dt):\n",
    "    \n",
    "    if \"minutes\" == date.split(\" \")[1]:\n",
    "        hour_shift = int(re.search(\"(\\d+)\", date).group(1)) / 60\n",
    "    elif \"hour\" == date.split(\" \")[1]:\n",
    "        hour_shift = 1\n",
    "    elif \"hours\" == date.split(\" \")[1]:\n",
    "        hour_shift = int(re.search(\"(\\d+)\", date).group(1))\n",
    "    elif \"day\" == date.split(\" \")[1]:\n",
    "        hour_shift = 24\n",
    "    elif \"days\" == date.split(\" \")[1]:\n",
    "        hour_shift = 24 * int(re.search(\"(\\d+)\", date).group(1))\n",
    "        \n",
    "    return pd.to_datetime(scrap_time_dt - datetime.timedelta(hours=hour_shift))\n",
    "\"\"\"\n",
    "def format_date(date, scrap_time_dt):\n",
    "    \n",
    "    hour_shift = None\n",
    "    \n",
    "    if \"minutes\" == date.split(\" \")[1]:\n",
    "        hour_shift = int(re.search(\"(\\d+)\", date).group(1)) / 60\n",
    "    elif \"hour\" == date.split(\" \")[1]:\n",
    "        hour_shift = 1\n",
    "    elif \"hours\" == date.split(\" \")[1]:\n",
    "        hour_shift = int(re.search(\"(\\d+)\", date).group(1))\n",
    "    elif \"day\" == date.split(\" \")[1]:\n",
    "        hour_shift = 24\n",
    "    elif \"days\" == date.split(\" \")[1]:\n",
    "        hour_shift = 24 * int(re.search(\"(\\d+)\", date).group(1))\n",
    "      \n",
    "    if hour_shift:\n",
    "        \n",
    "        return pd.to_datetime(scrap_time_dt - datetime.timedelta(hours=hour_shift))\n",
    "    \n",
    "    else:\n",
    "        \n",
    "        date = re.sub(\"st|nd|th|rd\", \"\", date)\n",
    "        date = date.split(\" \")[0] + \" 0\" + date.split(\" \")[-1] if len(date.split(\" \")[-1])==1 else date\n",
    "        date = pd.to_datetime(date, format=\"%b %d\")\n",
    "        date = date.replace(year = datetime.datetime.now().year)\n",
    "        \n",
    "        return date\n",
    "    \"\"\"\n",
    "    research_articles[\"Date\"] = research_articles.Date.apply(lambda x: re.sub(\"st|nd|th|rd\", \"\", x))\n",
    "    research_articles[\"Date\"] = research_articles[\"Date\"].apply(lambda x: x.split(\" \")[0] + \" 0\" + x.split(\" \")[-1] if len(x.split(\" \")[-1])==1 else x)\n",
    "    research_articles[\"Date\"] = pd.to_datetime(research_articles.Date, format=\"%b %d\")\n",
    "    research_articles[\"Date\"] = research_articles['Date'].apply(lambda x: x.replace(year = datetime.datetime.now().year))\n",
    "    \"\"\"\n",
    "        "
   ]
  },
  {
   "cell_type": "code",
   "execution_count": 3,
   "id": "9c00ad10",
   "metadata": {},
   "outputs": [],
   "source": [
    "PATH = \"../HEG/FAIRCHAIN/data/wikibase/MESSARI_wikibase.csv\"\n",
    "\n",
    "df_messari = pd.read_csv(PATH)"
   ]
  },
  {
   "cell_type": "code",
   "execution_count": 4,
   "id": "88df4e49",
   "metadata": {},
   "outputs": [],
   "source": [
    "driver = webdriver.Firefox()"
   ]
  },
  {
   "cell_type": "code",
   "execution_count": 5,
   "id": "3159a1e0",
   "metadata": {},
   "outputs": [
    {
     "name": "stderr",
     "output_type": "stream",
     "text": [
      "  1%|▎                                      | 13/1399 [01:20<2:14:16,  5.81s/it]"
     ]
    },
    {
     "name": "stdout",
     "output_type": "stream",
     "text": [
      "DOT ---- No tables found\n"
     ]
    },
    {
     "name": "stderr",
     "output_type": "stream",
     "text": [
      "  2%|▌                                      | 21/1399 [02:07<2:13:21,  5.81s/it]"
     ]
    },
    {
     "name": "stdout",
     "output_type": "stream",
     "text": [
      "LINK ---- No tables found\n"
     ]
    },
    {
     "name": "stderr",
     "output_type": "stream",
     "text": [
      "\r",
      "  2%|▌                                      | 22/1399 [02:14<2:23:19,  6.25s/it]"
     ]
    },
    {
     "name": "stdout",
     "output_type": "stream",
     "text": [
      "LEO ---- No tables found matching pattern '.+'\n"
     ]
    },
    {
     "name": "stderr",
     "output_type": "stream",
     "text": [
      "  2%|▊                                      | 27/1399 [02:46<2:26:31,  6.41s/it]"
     ]
    },
    {
     "name": "stdout",
     "output_type": "stream",
     "text": [
      "BCH ---- No tables found\n"
     ]
    },
    {
     "name": "stderr",
     "output_type": "stream",
     "text": [
      "  2%|▊                                      | 29/1399 [02:58<2:18:52,  6.08s/it]"
     ]
    },
    {
     "name": "stdout",
     "output_type": "stream",
     "text": [
      "HBAR ---- No tables found\n"
     ]
    },
    {
     "name": "stderr",
     "output_type": "stream",
     "text": [
      "  2%|▉                                      | 33/1399 [03:21<2:14:04,  5.89s/it]"
     ]
    },
    {
     "name": "stdout",
     "output_type": "stream",
     "text": [
      "CRO ---- No tables found\n"
     ]
    },
    {
     "name": "stderr",
     "output_type": "stream",
     "text": [
      "  3%|█                                      | 36/1399 [03:40<2:23:08,  6.30s/it]"
     ]
    },
    {
     "name": "stdout",
     "output_type": "stream",
     "text": [
      "QNT ---- 'DataFrame' object has no attribute 'Date'\n"
     ]
    },
    {
     "name": "stderr",
     "output_type": "stream",
     "text": [
      "  3%|█▏                                     | 44/1399 [04:29<2:16:00,  6.02s/it]"
     ]
    },
    {
     "name": "stdout",
     "output_type": "stream",
     "text": [
      "EOS ---- No tables found\n"
     ]
    },
    {
     "name": "stderr",
     "output_type": "stream",
     "text": [
      "  4%|█▌                                     | 54/1399 [05:27<2:09:28,  5.78s/it]"
     ]
    },
    {
     "name": "stdout",
     "output_type": "stream",
     "text": [
      "USDP ---- unconverted data remains: , 2023\n"
     ]
    },
    {
     "name": "stderr",
     "output_type": "stream",
     "text": [
      "  4%|█▋                                     | 62/1399 [06:14<2:11:03,  5.88s/it]"
     ]
    },
    {
     "name": "stdout",
     "output_type": "stream",
     "text": [
      "BIT ---- No tables found\n"
     ]
    },
    {
     "name": "stderr",
     "output_type": "stream",
     "text": [
      "\r",
      "  5%|█▊                                     | 63/1399 [06:20<2:10:39,  5.87s/it]"
     ]
    },
    {
     "name": "stdout",
     "output_type": "stream",
     "text": [
      "BTT ---- 'DataFrame' object has no attribute 'Date'\n"
     ]
    },
    {
     "name": "stderr",
     "output_type": "stream",
     "text": [
      "\r",
      "  5%|█▊                                     | 64/1399 [06:26<2:09:31,  5.82s/it]"
     ]
    },
    {
     "name": "stdout",
     "output_type": "stream",
     "text": [
      "CAKE ---- No tables found\n"
     ]
    },
    {
     "name": "stderr",
     "output_type": "stream",
     "text": [
      "  5%|█▊                                     | 66/1399 [06:39<2:19:35,  6.28s/it]"
     ]
    },
    {
     "name": "stdout",
     "output_type": "stream",
     "text": [
      "XEC ---- 'DataFrame' object has no attribute 'Date'\n"
     ]
    },
    {
     "name": "stderr",
     "output_type": "stream",
     "text": [
      "  5%|█▉                                     | 71/1399 [07:08<2:10:58,  5.92s/it]"
     ]
    },
    {
     "name": "stdout",
     "output_type": "stream",
     "text": [
      "TWT ---- No tables found\n"
     ]
    },
    {
     "name": "stderr",
     "output_type": "stream",
     "text": [
      "  5%|██                                     | 74/1399 [07:25<2:09:08,  5.85s/it]"
     ]
    },
    {
     "name": "stdout",
     "output_type": "stream",
     "text": [
      "RNDR ---- 'DataFrame' object has no attribute 'Date'\n"
     ]
    },
    {
     "name": "stderr",
     "output_type": "stream",
     "text": [
      "  6%|██▏                                    | 78/1399 [07:49<2:07:25,  5.79s/it]"
     ]
    },
    {
     "name": "stdout",
     "output_type": "stream",
     "text": [
      "RUNE ---- No tables found matching pattern '.+'\n"
     ]
    },
    {
     "name": "stderr",
     "output_type": "stream",
     "text": [
      "  6%|██▎                                    | 85/1399 [08:29<2:06:32,  5.78s/it]"
     ]
    },
    {
     "name": "stdout",
     "output_type": "stream",
     "text": [
      "BAT ---- No tables found\n"
     ]
    },
    {
     "name": "stderr",
     "output_type": "stream",
     "text": [
      "  6%|██▍                                    | 87/1399 [08:41<2:05:47,  5.75s/it]"
     ]
    },
    {
     "name": "stdout",
     "output_type": "stream",
     "text": [
      "1INCH ---- No tables found\n"
     ]
    },
    {
     "name": "stderr",
     "output_type": "stream",
     "text": [
      "  6%|██▍                                    | 89/1399 [08:52<2:06:55,  5.81s/it]"
     ]
    },
    {
     "name": "stdout",
     "output_type": "stream",
     "text": [
      "ROSE ---- No tables found\n"
     ]
    },
    {
     "name": "stderr",
     "output_type": "stream",
     "text": [
      "  7%|██▌                                    | 92/1399 [09:10<2:05:33,  5.76s/it]"
     ]
    },
    {
     "name": "stdout",
     "output_type": "stream",
     "text": [
      "ASTR ---- No tables found\n"
     ]
    },
    {
     "name": "stderr",
     "output_type": "stream",
     "text": [
      "  7%|██▋                                    | 95/1399 [09:27<2:05:49,  5.79s/it]"
     ]
    },
    {
     "name": "stdout",
     "output_type": "stream",
     "text": [
      "CELO ---- No tables found\n"
     ]
    },
    {
     "name": "stderr",
     "output_type": "stream",
     "text": [
      "  7%|██▋                                   | 100/1399 [09:58<2:09:07,  5.96s/it]"
     ]
    },
    {
     "name": "stdout",
     "output_type": "stream",
     "text": [
      "WOO ---- 'DataFrame' object has no attribute 'Date'\n"
     ]
    },
    {
     "name": "stderr",
     "output_type": "stream",
     "text": [
      "  8%|██▊                                   | 105/1399 [10:28<2:06:52,  5.88s/it]"
     ]
    },
    {
     "name": "stdout",
     "output_type": "stream",
     "text": [
      "GALA ---- 'DataFrame' object has no attribute 'Date'\n"
     ]
    },
    {
     "name": "stderr",
     "output_type": "stream",
     "text": [
      "\r",
      "  8%|██▉                                   | 106/1399 [10:33<2:06:08,  5.85s/it]"
     ]
    },
    {
     "name": "stdout",
     "output_type": "stream",
     "text": [
      "TFUEL ---- 'DataFrame' object has no attribute 'Date'\n"
     ]
    },
    {
     "name": "stderr",
     "output_type": "stream",
     "text": [
      "\r",
      "  8%|██▉                                   | 107/1399 [10:39<2:05:06,  5.81s/it]"
     ]
    },
    {
     "name": "stdout",
     "output_type": "stream",
     "text": [
      "JEWEL ---- No tables found\n"
     ]
    },
    {
     "name": "stderr",
     "output_type": "stream",
     "text": [
      "\r",
      "  8%|██▉                                   | 108/1399 [10:45<2:04:58,  5.81s/it]"
     ]
    },
    {
     "name": "stdout",
     "output_type": "stream",
     "text": [
      "ONE ---- No tables found\n"
     ]
    },
    {
     "name": "stderr",
     "output_type": "stream",
     "text": [
      "  8%|███                                   | 112/1399 [11:10<2:08:38,  6.00s/it]"
     ]
    },
    {
     "name": "stdout",
     "output_type": "stream",
     "text": [
      "UST ---- No tables found\n"
     ]
    },
    {
     "name": "stderr",
     "output_type": "stream",
     "text": [
      "\r",
      "  8%|███                                   | 113/1399 [11:16<2:06:32,  5.90s/it]"
     ]
    },
    {
     "name": "stdout",
     "output_type": "stream",
     "text": [
      "SYN ---- 'DataFrame' object has no attribute 'Article'\n"
     ]
    },
    {
     "name": "stderr",
     "output_type": "stream",
     "text": [
      "  8%|███▏                                  | 118/1399 [11:45<2:04:07,  5.81s/it]"
     ]
    },
    {
     "name": "stdout",
     "output_type": "stream",
     "text": [
      "ANKR ---- No tables found\n"
     ]
    },
    {
     "name": "stderr",
     "output_type": "stream",
     "text": [
      "  9%|███▍                                  | 125/1399 [12:27<2:08:50,  6.07s/it]"
     ]
    },
    {
     "name": "stdout",
     "output_type": "stream",
     "text": [
      "MASK ---- 'DataFrame' object has no attribute 'Date'\n"
     ]
    },
    {
     "name": "stderr",
     "output_type": "stream",
     "text": [
      "  9%|███▍                                  | 127/1399 [12:38<2:04:49,  5.89s/it]"
     ]
    },
    {
     "name": "stdout",
     "output_type": "stream",
     "text": [
      "SUSHI ---- No tables found\n"
     ]
    },
    {
     "name": "stderr",
     "output_type": "stream",
     "text": [
      "  9%|███▌                                  | 129/1399 [12:50<2:03:53,  5.85s/it]"
     ]
    },
    {
     "name": "stdout",
     "output_type": "stream",
     "text": [
      "JST ---- 'DataFrame' object has no attribute 'Date'\n"
     ]
    },
    {
     "name": "stderr",
     "output_type": "stream",
     "text": [
      "\r",
      "  9%|███▌                                  | 130/1399 [12:56<2:03:28,  5.84s/it]"
     ]
    },
    {
     "name": "stdout",
     "output_type": "stream",
     "text": [
      "ALI ---- 'DataFrame' object has no attribute 'Date'\n"
     ]
    },
    {
     "name": "stderr",
     "output_type": "stream",
     "text": [
      "\r",
      "  9%|███▌                                  | 131/1399 [13:02<2:02:37,  5.80s/it]"
     ]
    },
    {
     "name": "stdout",
     "output_type": "stream",
     "text": [
      "GLM ---- No tables found\n"
     ]
    },
    {
     "name": "stderr",
     "output_type": "stream",
     "text": [
      " 10%|███▌                                  | 133/1399 [13:13<2:01:46,  5.77s/it]"
     ]
    },
    {
     "name": "stdout",
     "output_type": "stream",
     "text": [
      "BAND ---- 'DataFrame' object has no attribute 'Date'\n"
     ]
    },
    {
     "name": "stderr",
     "output_type": "stream",
     "text": [
      " 10%|███▋                                  | 135/1399 [13:26<2:13:05,  6.32s/it]"
     ]
    },
    {
     "name": "stdout",
     "output_type": "stream",
     "text": [
      "SSV ---- No tables found\n"
     ]
    },
    {
     "name": "stderr",
     "output_type": "stream",
     "text": [
      "\r",
      " 10%|███▋                                  | 136/1399 [13:32<2:09:12,  6.14s/it]"
     ]
    },
    {
     "name": "stdout",
     "output_type": "stream",
     "text": [
      "CHSB ---- 'DataFrame' object has no attribute 'Date'\n",
      "nan ---- 'float' object has no attribute 'lower'\n"
     ]
    },
    {
     "name": "stderr",
     "output_type": "stream",
     "text": [
      "\r",
      " 10%|███▋                                  | 138/1399 [13:38<1:38:33,  4.69s/it]"
     ]
    },
    {
     "name": "stdout",
     "output_type": "stream",
     "text": [
      "OMG ---- 'DataFrame' object has no attribute 'Date'\n"
     ]
    },
    {
     "name": "stderr",
     "output_type": "stream",
     "text": [
      " 10%|███▉                                  | 144/1399 [14:18<2:06:28,  6.05s/it]"
     ]
    },
    {
     "name": "stdout",
     "output_type": "stream",
     "text": [
      "IOST ---- 'DataFrame' object has no attribute 'Date'\n"
     ]
    },
    {
     "name": "stderr",
     "output_type": "stream",
     "text": [
      "\r",
      " 10%|███▉                                  | 145/1399 [14:24<2:05:14,  5.99s/it]"
     ]
    },
    {
     "name": "stdout",
     "output_type": "stream",
     "text": [
      "RSR ---- 'DataFrame' object has no attribute 'Date'\n"
     ]
    },
    {
     "name": "stderr",
     "output_type": "stream",
     "text": [
      "\r",
      " 10%|███▉                                  | 146/1399 [14:29<2:04:00,  5.94s/it]"
     ]
    },
    {
     "name": "stdout",
     "output_type": "stream",
     "text": [
      "SFP ---- 'DataFrame' object has no attribute 'Date'\n"
     ]
    },
    {
     "name": "stderr",
     "output_type": "stream",
     "text": [
      "\r",
      " 11%|███▉                                  | 147/1399 [14:35<2:02:26,  5.87s/it]"
     ]
    },
    {
     "name": "stdout",
     "output_type": "stream",
     "text": [
      "SXP ---- 'DataFrame' object has no attribute 'Date'\n"
     ]
    },
    {
     "name": "stderr",
     "output_type": "stream",
     "text": [
      "\r",
      " 11%|████                                  | 148/1399 [14:41<2:02:05,  5.86s/it]"
     ]
    },
    {
     "name": "stdout",
     "output_type": "stream",
     "text": [
      "NU ---- 'DataFrame' object has no attribute 'Date'\n"
     ]
    },
    {
     "name": "stderr",
     "output_type": "stream",
     "text": [
      "\r",
      " 11%|████                                  | 149/1399 [14:47<2:01:02,  5.81s/it]"
     ]
    },
    {
     "name": "stdout",
     "output_type": "stream",
     "text": [
      "MULTI ---- 'DataFrame' object has no attribute 'Date'\n"
     ]
    },
    {
     "name": "stderr",
     "output_type": "stream",
     "text": [
      " 11%|████                                  | 151/1399 [15:02<2:18:40,  6.67s/it]"
     ]
    },
    {
     "name": "stdout",
     "output_type": "stream",
     "text": [
      "WAXP ---- No tables found\n"
     ]
    },
    {
     "name": "stderr",
     "output_type": "stream",
     "text": [
      "\r",
      " 11%|████▏                                 | 152/1399 [15:08<2:12:19,  6.37s/it]"
     ]
    },
    {
     "name": "stdout",
     "output_type": "stream",
     "text": [
      "ILV ---- 'DataFrame' object has no attribute 'Article'\n"
     ]
    },
    {
     "name": "stderr",
     "output_type": "stream",
     "text": [
      "\r",
      " 11%|████▏                                 | 153/1399 [15:14<2:08:15,  6.18s/it]"
     ]
    },
    {
     "name": "stdout",
     "output_type": "stream",
     "text": [
      "BICO ---- 'DataFrame' object has no attribute 'Date'\n"
     ]
    },
    {
     "name": "stderr",
     "output_type": "stream",
     "text": [
      "\r",
      " 11%|████▏                                 | 154/1399 [15:20<2:05:20,  6.04s/it]"
     ]
    },
    {
     "name": "stdout",
     "output_type": "stream",
     "text": [
      "EWT ---- 'DataFrame' object has no attribute 'Date'\n"
     ]
    },
    {
     "name": "stderr",
     "output_type": "stream",
     "text": [
      "\r",
      " 11%|████▏                                 | 155/1399 [15:25<2:03:57,  5.98s/it]"
     ]
    },
    {
     "name": "stdout",
     "output_type": "stream",
     "text": [
      "POLY ---- 'DataFrame' object has no attribute 'Date'\n"
     ]
    },
    {
     "name": "stderr",
     "output_type": "stream",
     "text": [
      "\r",
      " 11%|████▏                                 | 156/1399 [15:31<2:02:22,  5.91s/it]"
     ]
    },
    {
     "name": "stdout",
     "output_type": "stream",
     "text": [
      "RLC ---- 'DataFrame' object has no attribute 'Date'\n"
     ]
    },
    {
     "name": "stderr",
     "output_type": "stream",
     "text": [
      "\r",
      " 11%|████▎                                 | 157/1399 [15:37<2:01:01,  5.85s/it]"
     ]
    },
    {
     "name": "stdout",
     "output_type": "stream",
     "text": [
      "LYXE ---- 'DataFrame' object has no attribute 'Date'\n"
     ]
    },
    {
     "name": "stderr",
     "output_type": "stream",
     "text": [
      " 11%|████▎                                 | 160/1399 [15:54<2:00:08,  5.82s/it]"
     ]
    },
    {
     "name": "stdout",
     "output_type": "stream",
     "text": [
      "TRAC ---- 'DataFrame' object has no attribute 'Date'\n"
     ]
    },
    {
     "name": "stderr",
     "output_type": "stream",
     "text": [
      " 12%|████▍                                 | 162/1399 [16:09<2:13:21,  6.47s/it]"
     ]
    },
    {
     "name": "stdout",
     "output_type": "stream",
     "text": [
      "CFX ---- 'DataFrame' object has no attribute 'Date'\n"
     ]
    },
    {
     "name": "stderr",
     "output_type": "stream",
     "text": [
      "\r",
      " 12%|████▍                                 | 163/1399 [16:15<2:09:08,  6.27s/it]"
     ]
    },
    {
     "name": "stdout",
     "output_type": "stream",
     "text": [
      "DGB ---- No tables found\n"
     ]
    },
    {
     "name": "stderr",
     "output_type": "stream",
     "text": [
      " 12%|████▍                                 | 165/1399 [16:26<2:03:04,  5.98s/it]"
     ]
    },
    {
     "name": "stdout",
     "output_type": "stream",
     "text": [
      "TEL ---- 'DataFrame' object has no attribute 'Date'\n"
     ]
    },
    {
     "name": "stderr",
     "output_type": "stream",
     "text": [
      "\r",
      " 12%|████▌                                 | 166/1399 [16:32<2:01:29,  5.91s/it]"
     ]
    },
    {
     "name": "stdout",
     "output_type": "stream",
     "text": [
      "METIS ---- No tables found\n"
     ]
    },
    {
     "name": "stderr",
     "output_type": "stream",
     "text": [
      "\r",
      " 12%|████▌                                 | 167/1399 [16:38<2:00:42,  5.88s/it]"
     ]
    },
    {
     "name": "stdout",
     "output_type": "stream",
     "text": [
      "LOOKS ---- No tables found\n"
     ]
    },
    {
     "name": "stderr",
     "output_type": "stream",
     "text": [
      " 12%|████▌                                 | 169/1399 [16:53<2:18:20,  6.75s/it]"
     ]
    },
    {
     "name": "stdout",
     "output_type": "stream",
     "text": [
      "VGX ---- 'DataFrame' object has no attribute 'Date'\n"
     ]
    },
    {
     "name": "stderr",
     "output_type": "stream",
     "text": [
      "\r",
      " 12%|████▌                                 | 170/1399 [16:59<2:12:02,  6.45s/it]"
     ]
    },
    {
     "name": "stdout",
     "output_type": "stream",
     "text": [
      "CELR ---- No tables found\n"
     ]
    },
    {
     "name": "stderr",
     "output_type": "stream",
     "text": [
      "\r",
      " 12%|████▋                                 | 171/1399 [17:04<2:07:34,  6.23s/it]"
     ]
    },
    {
     "name": "stdout",
     "output_type": "stream",
     "text": [
      "NEST ---- 'DataFrame' object has no attribute 'Date'\n"
     ]
    },
    {
     "name": "stderr",
     "output_type": "stream",
     "text": [
      "\r",
      " 12%|████▋                                 | 172/1399 [17:10<2:05:02,  6.11s/it]"
     ]
    },
    {
     "name": "stdout",
     "output_type": "stream",
     "text": [
      "LSK ---- 'DataFrame' object has no attribute 'Date'\n"
     ]
    },
    {
     "name": "stderr",
     "output_type": "stream",
     "text": [
      " 13%|████▊                                 | 175/1399 [17:28<2:01:54,  5.98s/it]"
     ]
    },
    {
     "name": "stdout",
     "output_type": "stream",
     "text": [
      "CHR ---- 'DataFrame' object has no attribute 'Date'\n"
     ]
    },
    {
     "name": "stderr",
     "output_type": "stream",
     "text": [
      "\r",
      " 13%|████▊                                 | 176/1399 [17:34<2:00:31,  5.91s/it]"
     ]
    },
    {
     "name": "stdout",
     "output_type": "stream",
     "text": [
      "EURS ---- 'DataFrame' object has no attribute 'Date'\n"
     ]
    },
    {
     "name": "stderr",
     "output_type": "stream",
     "text": [
      " 13%|████▊                                 | 178/1399 [17:47<2:06:07,  6.20s/it]"
     ]
    },
    {
     "name": "stdout",
     "output_type": "stream",
     "text": [
      "MIR ---- No tables found\n"
     ]
    },
    {
     "name": "stderr",
     "output_type": "stream",
     "text": [
      " 13%|████▉                                 | 181/1399 [18:04<2:00:53,  5.96s/it]"
     ]
    },
    {
     "name": "stdout",
     "output_type": "stream",
     "text": [
      "PLA ---- 'DataFrame' object has no attribute 'Date'\n"
     ]
    },
    {
     "name": "stderr",
     "output_type": "stream",
     "text": [
      " 13%|████▉                                 | 183/1399 [18:18<2:08:15,  6.33s/it]"
     ]
    },
    {
     "name": "stdout",
     "output_type": "stream",
     "text": [
      "SLP ---- No tables found\n"
     ]
    },
    {
     "name": "stderr",
     "output_type": "stream",
     "text": [
      " 13%|█████                                 | 185/1399 [18:29<2:01:57,  6.03s/it]"
     ]
    },
    {
     "name": "stdout",
     "output_type": "stream",
     "text": [
      "ALICE ---- 'DataFrame' object has no attribute 'Date'\n"
     ]
    },
    {
     "name": "stderr",
     "output_type": "stream",
     "text": [
      "\r",
      " 13%|█████                                 | 186/1399 [18:35<2:00:12,  5.95s/it]"
     ]
    },
    {
     "name": "stdout",
     "output_type": "stream",
     "text": [
      "MC ---- 'DataFrame' object has no attribute 'Article'\n"
     ]
    },
    {
     "name": "stderr",
     "output_type": "stream",
     "text": [
      "\r",
      " 13%|█████                                 | 187/1399 [18:42<2:09:12,  6.40s/it]"
     ]
    },
    {
     "name": "stdout",
     "output_type": "stream",
     "text": [
      "TRIBE ---- 'DataFrame' object has no attribute 'Date'\n"
     ]
    },
    {
     "name": "stderr",
     "output_type": "stream",
     "text": [
      " 14%|█████▏                                | 190/1399 [19:01<2:05:49,  6.24s/it]"
     ]
    },
    {
     "name": "stdout",
     "output_type": "stream",
     "text": [
      "SNT ---- 'DataFrame' object has no attribute 'Date'\n"
     ]
    },
    {
     "name": "stderr",
     "output_type": "stream",
     "text": [
      "\r",
      " 14%|█████▏                                | 191/1399 [19:07<2:03:20,  6.13s/it]"
     ]
    },
    {
     "name": "stdout",
     "output_type": "stream",
     "text": [
      "FLEX ---- 'DataFrame' object has no attribute 'Date'\n"
     ]
    },
    {
     "name": "stderr",
     "output_type": "stream",
     "text": [
      " 14%|█████▏                                | 193/1399 [19:19<2:00:03,  5.97s/it]"
     ]
    },
    {
     "name": "stdout",
     "output_type": "stream",
     "text": [
      "REP ---- No tables found\n"
     ]
    },
    {
     "name": "stderr",
     "output_type": "stream",
     "text": [
      "\r",
      " 14%|█████▎                                | 194/1399 [19:24<1:58:47,  5.91s/it]"
     ]
    },
    {
     "name": "stdout",
     "output_type": "stream",
     "text": [
      "VRA ---- 'DataFrame' object has no attribute 'Date'\n"
     ]
    },
    {
     "name": "stderr",
     "output_type": "stream",
     "text": [
      " 14%|█████▎                                | 196/1399 [19:36<1:57:41,  5.87s/it]"
     ]
    },
    {
     "name": "stdout",
     "output_type": "stream",
     "text": [
      "KEEP ---- 'DataFrame' object has no attribute 'Date'\n"
     ]
    },
    {
     "name": "stderr",
     "output_type": "stream",
     "text": [
      "\r",
      " 14%|█████▎                                | 197/1399 [19:42<1:56:58,  5.84s/it]"
     ]
    },
    {
     "name": "stdout",
     "output_type": "stream",
     "text": [
      "REQ ---- 'DataFrame' object has no attribute 'Date'\n"
     ]
    },
    {
     "name": "stderr",
     "output_type": "stream",
     "text": [
      "\r",
      " 14%|█████▍                                | 198/1399 [19:48<1:56:11,  5.80s/it]"
     ]
    },
    {
     "name": "stdout",
     "output_type": "stream",
     "text": [
      "C98 ---- 'DataFrame' object has no attribute 'Date'\n"
     ]
    },
    {
     "name": "stderr",
     "output_type": "stream",
     "text": [
      "\r",
      " 14%|█████▍                                | 199/1399 [19:53<1:56:16,  5.81s/it]"
     ]
    },
    {
     "name": "stdout",
     "output_type": "stream",
     "text": [
      "DUSK ---- 'DataFrame' object has no attribute 'Date'\n"
     ]
    },
    {
     "name": "stderr",
     "output_type": "stream",
     "text": [
      "\r",
      " 14%|█████▍                                | 200/1399 [19:59<1:56:03,  5.81s/it]"
     ]
    },
    {
     "name": "stdout",
     "output_type": "stream",
     "text": [
      "AKT ---- No tables found\n"
     ]
    },
    {
     "name": "stderr",
     "output_type": "stream",
     "text": [
      "\r",
      " 14%|█████▍                                | 201/1399 [20:05<1:55:35,  5.79s/it]"
     ]
    },
    {
     "name": "stdout",
     "output_type": "stream",
     "text": [
      "COTI ---- No tables found\n"
     ]
    },
    {
     "name": "stderr",
     "output_type": "stream",
     "text": [
      "\r",
      " 14%|█████▍                                | 202/1399 [20:11<1:54:54,  5.76s/it]"
     ]
    },
    {
     "name": "stdout",
     "output_type": "stream",
     "text": [
      "ONG ---- 'DataFrame' object has no attribute 'Date'\n"
     ]
    },
    {
     "name": "stderr",
     "output_type": "stream",
     "text": [
      " 15%|█████▌                                | 204/1399 [20:22<1:54:31,  5.75s/it]"
     ]
    },
    {
     "name": "stdout",
     "output_type": "stream",
     "text": [
      "ORBS ---- No tables found\n"
     ]
    },
    {
     "name": "stderr",
     "output_type": "stream",
     "text": [
      "\r",
      " 15%|█████▌                                | 205/1399 [20:28<1:54:41,  5.76s/it]"
     ]
    },
    {
     "name": "stdout",
     "output_type": "stream",
     "text": [
      "LCX ---- 'DataFrame' object has no attribute 'Date'\n"
     ]
    },
    {
     "name": "stderr",
     "output_type": "stream",
     "text": [
      "\r",
      " 15%|█████▌                                | 206/1399 [20:35<2:03:37,  6.22s/it]"
     ]
    },
    {
     "name": "stdout",
     "output_type": "stream",
     "text": [
      "RARE ---- 'DataFrame' object has no attribute 'Date'\n"
     ]
    },
    {
     "name": "stderr",
     "output_type": "stream",
     "text": [
      "\r",
      " 15%|█████▌                                | 207/1399 [20:41<2:00:18,  6.06s/it]"
     ]
    },
    {
     "name": "stdout",
     "output_type": "stream",
     "text": [
      "ARDR ---- 'DataFrame' object has no attribute 'Date'\n"
     ]
    },
    {
     "name": "stderr",
     "output_type": "stream",
     "text": [
      " 15%|█████▋                                | 209/1399 [20:52<1:57:37,  5.93s/it]"
     ]
    },
    {
     "name": "stdout",
     "output_type": "stream",
     "text": [
      "CFG ---- 'DataFrame' object has no attribute 'Date'\n"
     ]
    },
    {
     "name": "stderr",
     "output_type": "stream",
     "text": [
      "\r",
      " 15%|█████▋                                | 210/1399 [20:58<1:56:13,  5.87s/it]"
     ]
    },
    {
     "name": "stdout",
     "output_type": "stream",
     "text": [
      "DENT ---- 'DataFrame' object has no attribute 'Date'\n"
     ]
    },
    {
     "name": "stderr",
     "output_type": "stream",
     "text": [
      "\r",
      " 15%|█████▋                                | 211/1399 [21:06<2:08:48,  6.51s/it]"
     ]
    },
    {
     "name": "stdout",
     "output_type": "stream",
     "text": [
      "RAD ---- No tables found\n"
     ]
    },
    {
     "name": "stderr",
     "output_type": "stream",
     "text": [
      "\r",
      " 15%|█████▊                                | 212/1399 [21:12<2:04:20,  6.29s/it]"
     ]
    },
    {
     "name": "stdout",
     "output_type": "stream",
     "text": [
      "BFC ---- 'DataFrame' object has no attribute 'Date'\n"
     ]
    },
    {
     "name": "stderr",
     "output_type": "stream",
     "text": [
      " 15%|█████▊                                | 214/1399 [21:24<1:59:14,  6.04s/it]"
     ]
    },
    {
     "name": "stdout",
     "output_type": "stream",
     "text": [
      "PYR ---- 'DataFrame' object has no attribute 'Date'\n"
     ]
    },
    {
     "name": "stderr",
     "output_type": "stream",
     "text": [
      "\r",
      " 15%|█████▊                                | 215/1399 [21:29<1:58:18,  6.00s/it]"
     ]
    },
    {
     "name": "stdout",
     "output_type": "stream",
     "text": [
      "POWR ---- 'DataFrame' object has no attribute 'Date'\n"
     ]
    },
    {
     "name": "stderr",
     "output_type": "stream",
     "text": [
      "\r",
      " 15%|█████▊                                | 216/1399 [21:35<1:56:39,  5.92s/it]"
     ]
    },
    {
     "name": "stdout",
     "output_type": "stream",
     "text": [
      "WCFG ---- No tables found\n"
     ]
    },
    {
     "name": "stderr",
     "output_type": "stream",
     "text": [
      "\r",
      " 16%|█████▉                                | 217/1399 [21:41<1:55:46,  5.88s/it]"
     ]
    },
    {
     "name": "stdout",
     "output_type": "stream",
     "text": [
      "JUNO ---- No tables found\n"
     ]
    },
    {
     "name": "stderr",
     "output_type": "stream",
     "text": [
      "\r",
      " 16%|█████▉                                | 218/1399 [21:47<1:54:34,  5.82s/it]"
     ]
    },
    {
     "name": "stdout",
     "output_type": "stream",
     "text": [
      "MBOX ---- 'DataFrame' object has no attribute 'Date'\n"
     ]
    },
    {
     "name": "stderr",
     "output_type": "stream",
     "text": [
      " 16%|██████                                | 221/1399 [22:04<1:54:13,  5.82s/it]"
     ]
    },
    {
     "name": "stdout",
     "output_type": "stream",
     "text": [
      "CCD ---- 'DataFrame' object has no attribute 'Date'\n"
     ]
    },
    {
     "name": "stderr",
     "output_type": "stream",
     "text": [
      "\r",
      " 16%|██████                                | 222/1399 [22:12<2:04:04,  6.32s/it]"
     ]
    },
    {
     "name": "stdout",
     "output_type": "stream",
     "text": [
      "WRX ---- 'DataFrame' object has no attribute 'Date'\n"
     ]
    },
    {
     "name": "stderr",
     "output_type": "stream",
     "text": [
      "\r",
      " 16%|██████                                | 223/1399 [22:18<2:01:12,  6.18s/it]"
     ]
    },
    {
     "name": "stdout",
     "output_type": "stream",
     "text": [
      "ACH ---- 'DataFrame' object has no attribute 'Date'\n"
     ]
    },
    {
     "name": "stderr",
     "output_type": "stream",
     "text": [
      " 16%|██████                                | 225/1399 [22:29<1:56:51,  5.97s/it]"
     ]
    },
    {
     "name": "stdout",
     "output_type": "stream",
     "text": [
      "STRAT ---- 'DataFrame' object has no attribute 'Date'\n"
     ]
    },
    {
     "name": "stderr",
     "output_type": "stream",
     "text": [
      "\r",
      " 16%|██████▏                               | 226/1399 [22:35<1:57:13,  6.00s/it]"
     ]
    },
    {
     "name": "stdout",
     "output_type": "stream",
     "text": [
      "DPX ---- 'DataFrame' object has no attribute 'Date'\n"
     ]
    },
    {
     "name": "stderr",
     "output_type": "stream",
     "text": [
      " 16%|██████▏                               | 228/1399 [22:47<1:54:23,  5.86s/it]"
     ]
    },
    {
     "name": "stdout",
     "output_type": "stream",
     "text": [
      "POND ---- 'DataFrame' object has no attribute 'Date'\n"
     ]
    },
    {
     "name": "stderr",
     "output_type": "stream",
     "text": [
      " 16%|██████▏                               | 230/1399 [23:01<2:11:03,  6.73s/it]"
     ]
    },
    {
     "name": "stdout",
     "output_type": "stream",
     "text": [
      "XYO ---- 'DataFrame' object has no attribute 'Date'\n"
     ]
    },
    {
     "name": "stderr",
     "output_type": "stream",
     "text": [
      " 16%|██████▏                               | 230/1399 [23:04<1:57:16,  6.02s/it]\n"
     ]
    },
    {
     "ename": "KeyboardInterrupt",
     "evalue": "",
     "output_type": "error",
     "traceback": [
      "\u001b[0;31m---------------------------------------------------------------------------\u001b[0m",
      "\u001b[0;31mKeyboardInterrupt\u001b[0m                         Traceback (most recent call last)",
      "\u001b[0;32m/var/folders/7_/85hx44gd4sb_6w_n8wqmfj3c0000gn/T/ipykernel_8955/4120168760.py\u001b[0m in \u001b[0;36m<module>\u001b[0;34m\u001b[0m\n\u001b[1;32m     13\u001b[0m         \u001b[0mdriver\u001b[0m\u001b[0;34m.\u001b[0m\u001b[0mget\u001b[0m\u001b[0;34m(\u001b[0m\u001b[0murl\u001b[0m\u001b[0;34m)\u001b[0m\u001b[0;34m\u001b[0m\u001b[0;34m\u001b[0m\u001b[0m\n\u001b[1;32m     14\u001b[0m \u001b[0;34m\u001b[0m\u001b[0m\n\u001b[0;32m---> 15\u001b[0;31m         \u001b[0mtime\u001b[0m\u001b[0;34m.\u001b[0m\u001b[0msleep\u001b[0m\u001b[0;34m(\u001b[0m\u001b[0;36m5\u001b[0m\u001b[0;34m)\u001b[0m\u001b[0;34m\u001b[0m\u001b[0;34m\u001b[0m\u001b[0m\n\u001b[0m\u001b[1;32m     16\u001b[0m \u001b[0;34m\u001b[0m\u001b[0m\n\u001b[1;32m     17\u001b[0m         \u001b[0msoup\u001b[0m \u001b[0;34m=\u001b[0m \u001b[0mBeautifulSoup\u001b[0m\u001b[0;34m(\u001b[0m\u001b[0mdriver\u001b[0m\u001b[0;34m.\u001b[0m\u001b[0mpage_source\u001b[0m\u001b[0;34m)\u001b[0m\u001b[0;34m\u001b[0m\u001b[0;34m\u001b[0m\u001b[0m\n",
      "\u001b[0;31mKeyboardInterrupt\u001b[0m: "
     ]
    }
   ],
   "source": [
    "failed_scraping = []\n",
    "\n",
    "nested_dict = lambda: defaultdict(nested_dict)\n",
    "news_dict = nested_dict()\n",
    "\n",
    "for symbol in tqdm.tqdm(df_messari.symbol):\n",
    "\n",
    "    try:\n",
    "        scrap_time_dt = datetime.datetime.now()\n",
    "        scrap_time = scrap_time_dt.strftime(\"%Y_%m_%d_%H_%M_%S\")\n",
    "\n",
    "        url = f\"https://messari.io/asset/{symbol.lower()}\"\n",
    "        driver.get(url)\n",
    "\n",
    "        time.sleep(10)\n",
    "\n",
    "        soup = BeautifulSoup(driver.page_source)\n",
    "\n",
    "        # Get Research article urls\n",
    "        research_articles = pd.read_html(driver.page_source)[0]\n",
    "        #research_articles[\"Article\"] = research_articles.Article.apply(lambda x: x.replace(\"'s\", \"\\\\'s\"))\n",
    "\n",
    "        # format research articles date\n",
    "        #research_articles = format_research_articles_date(research_articles)\n",
    "        research_articles_timestamps = [format_date(x, scrap_time_dt) for x in research_articles.Date]\n",
    "\n",
    "        research_articles_urls = []\n",
    "\n",
    "        for a in soup.find_all(\"a\"):\n",
    "\n",
    "            if any([x in a.text for x in research_articles.Article]):\n",
    "                research_articles_urls.append(a[\"href\"])\n",
    "\n",
    "        research_articles_urls = [(date, \"https://messari.io\" + x) for date, x in zip(research_articles_timestamps, research_articles_urls)]\n",
    "\n",
    "        # Get news article urls\n",
    "        news_articles = pd.read_html(driver.page_source)[1]\n",
    "        news_articles_urls = []\n",
    "\n",
    "        # format news articles dates\n",
    "        news_articles_timestamps = [format_date(x, scrap_time_dt) for x in news_articles.Date]\n",
    "\n",
    "        for h6 in soup.find_all(\"h6\"):\n",
    "\n",
    "            if h6.find_previous().name == \"a\":\n",
    "                news_articles_urls.append(h6.find_previous()[\"href\"])\n",
    "\n",
    "        news_articles_urls = [(date, x) for date, x in zip(news_articles_timestamps, news_articles_urls)]\n",
    "\n",
    "        # store data\n",
    "        news_dict[symbol][scrap_time][\"research_articles_urls\"] = research_articles_urls\n",
    "        news_dict[symbol][scrap_time][\"news_articles_urls\"] = news_articles_urls\n",
    "    \n",
    "    except Exception as e:\n",
    "        \n",
    "        print(symbol, \"----\", e)\n",
    "        failed_scraping.append(symbol)\n"
   ]
  },
  {
   "cell_type": "code",
   "execution_count": null,
   "id": "0f778b40",
   "metadata": {},
   "outputs": [],
   "source": [
    "news_dict.keys()"
   ]
  },
  {
   "cell_type": "code",
   "execution_count": null,
   "id": "d3dce5cf",
   "metadata": {},
   "outputs": [],
   "source": [
    "# convert timestamps to string\n",
    "\n",
    "# save ton json"
   ]
  },
  {
   "cell_type": "code",
   "execution_count": null,
   "id": "99194daa",
   "metadata": {},
   "outputs": [],
   "source": []
  },
  {
   "cell_type": "code",
   "execution_count": null,
   "id": "8719f130",
   "metadata": {},
   "outputs": [],
   "source": []
  },
  {
   "cell_type": "markdown",
   "id": "cab79d3d",
   "metadata": {},
   "source": [
    "# YFINANCE"
   ]
  },
  {
   "cell_type": "code",
   "execution_count": null,
   "id": "c6ba5d78",
   "metadata": {},
   "outputs": [],
   "source": [
    "import yfinance as yf\n",
    "import re"
   ]
  },
  {
   "cell_type": "code",
   "execution_count": null,
   "id": "8817db8a",
   "metadata": {},
   "outputs": [],
   "source": [
    "msft = yf.Ticker(\"MSFT\")"
   ]
  },
  {
   "cell_type": "code",
   "execution_count": null,
   "id": "d585fa87",
   "metadata": {},
   "outputs": [],
   "source": [
    "links = [x[\"link\"] for x in msft.news]"
   ]
  },
  {
   "cell_type": "code",
   "execution_count": null,
   "id": "e88350d4",
   "metadata": {},
   "outputs": [],
   "source": [
    "links"
   ]
  },
  {
   "cell_type": "code",
   "execution_count": null,
   "id": "97492cc4",
   "metadata": {},
   "outputs": [],
   "source": [
    "news_articles = []\n",
    "\n",
    "for url in links:\n",
    "    \n",
    "    res = requests.get(url)\n",
    "    soup = BeautifulSoup(res.content)\n",
    "    \n",
    "    # get affiliate link\n",
    "    if \"Continue reading\" in res.text:\n",
    "        \n",
    "        affiliate_url = soup.find(\"a\", class_=\"link caas-button\")[\"href\"]\n",
    "        res = requests.get(affiliate_url)\n",
    "        \n",
    "        if \"https://www.ft.com/\" in affiliate_url:\n",
    "            \n",
    "            res = requests.get(affiliate_url)\n",
    "            soup = BeautifulSoup(res.content)\n",
    "            script = soup.find_all(\"script\")[0]\n",
    "            text = re.search('\"articleBody\":\"(.*)\",\"wordCount', script.text).group(1)\n",
    "            \n",
    "            news_articles.append(text)\n",
    "    \n",
    "    # else base page contains article text --> extract text\n",
    "    else:\n",
    "        \n",
    "        pass\n",
    "        \n",
    "    break"
   ]
  },
  {
   "cell_type": "markdown",
   "id": "aadf5bad",
   "metadata": {},
   "source": [
    "# MESSARI"
   ]
  },
  {
   "cell_type": "code",
   "execution_count": null,
   "id": "29269a2c",
   "metadata": {},
   "outputs": [],
   "source": [
    "import requests\n",
    "import pandas as pd\n",
    "import collections\n",
    "import json\n",
    "import time\n",
    "import tqdm\n",
    "import re"
   ]
  },
  {
   "cell_type": "markdown",
   "id": "20605686",
   "metadata": {},
   "source": [
    "### Get all assets"
   ]
  },
  {
   "cell_type": "code",
   "execution_count": null,
   "id": "f164fe32",
   "metadata": {},
   "outputs": [],
   "source": [
    "res = requests.get('https://data.messari.io/api/v2/assets?with-profiles&page=1&limit=1500')\n",
    "df = pd.DataFrame.from_dict(res.json()[\"data\"])\n",
    "df.set_index('id', inplace=True)\n",
    "df.head()"
   ]
  },
  {
   "cell_type": "markdown",
   "id": "80bbe6e8",
   "metadata": {},
   "source": [
    "### get news for asset"
   ]
  },
  {
   "cell_type": "code",
   "execution_count": null,
   "id": "df20b30b",
   "metadata": {},
   "outputs": [],
   "source": [
    "news = collections.defaultdict(dict)\n",
    "symbols_failed = []\n",
    "\n",
    "for symbol in tqdm.tqdm(df.symbol):\n",
    "    \n",
    "    res = requests.get(f'https://data.messari.io/api/v1/news/{symbol}')\n",
    "    \n",
    "    try:\n",
    "        \n",
    "        news[symbol][\"timestamp\"] = res.json()[\"status\"][\"timestamp\"]\n",
    "        news[symbol][\"articles\"] = res.json()[\"data\"]\n",
    "        \n",
    "    except Exception as e:\n",
    "        \n",
    "        print(f\"{symbol}: {e}\")\n",
    "        symbols_failed.append(symbol)\n",
    "        \n",
    "        if res.json()[\"status\"][\"error_message\"] != \"Not Found\":\n",
    "            \n",
    "            wait = int(re.search(\"(\\d{2}) seconds\", res.json()[\"status\"][\"error_message\"]).group(1))\n",
    "        \n",
    "        else:\n",
    "            \n",
    "            continue\n",
    "        \n",
    "        time.sleep(wait+5)\n"
   ]
  },
  {
   "cell_type": "code",
   "execution_count": null,
   "id": "2af2fd72",
   "metadata": {},
   "outputs": [],
   "source": [
    "with open('./news.json', 'w') as f:\n",
    "    json.dump(news, f)"
   ]
  },
  {
   "cell_type": "markdown",
   "id": "9864df08",
   "metadata": {},
   "source": [
    "### get all news"
   ]
  },
  {
   "cell_type": "code",
   "execution_count": null,
   "id": "f95b6307",
   "metadata": {},
   "outputs": [],
   "source": [
    "res = requests.get(\"https://data.messari.io/api/v1/news\")"
   ]
  },
  {
   "cell_type": "code",
   "execution_count": null,
   "id": "a30981c4",
   "metadata": {},
   "outputs": [],
   "source": [
    "res.json()[\"data\"]"
   ]
  },
  {
   "cell_type": "code",
   "execution_count": null,
   "id": "d2713843",
   "metadata": {},
   "outputs": [],
   "source": []
  },
  {
   "cell_type": "code",
   "execution_count": null,
   "id": "140eb790",
   "metadata": {},
   "outputs": [],
   "source": []
  },
  {
   "cell_type": "code",
   "execution_count": null,
   "id": "f5028237",
   "metadata": {},
   "outputs": [],
   "source": []
  },
  {
   "cell_type": "code",
   "execution_count": null,
   "id": "318841e5",
   "metadata": {},
   "outputs": [],
   "source": []
  }
 ],
 "metadata": {
  "kernelspec": {
   "display_name": "Python 3 (ipykernel)",
   "language": "python",
   "name": "python3"
  },
  "language_info": {
   "codemirror_mode": {
    "name": "ipython",
    "version": 3
   },
   "file_extension": ".py",
   "mimetype": "text/x-python",
   "name": "python",
   "nbconvert_exporter": "python",
   "pygments_lexer": "ipython3",
   "version": "3.9.7"
  }
 },
 "nbformat": 4,
 "nbformat_minor": 5
}
